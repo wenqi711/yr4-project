{
  "cells": [
    {
      "cell_type": "code",
      "execution_count": null,
      "metadata": {
        "id": "oJ4tfUs_ZD15"
      },
      "outputs": [],
      "source": [
        "# Lattice Boltzmann method code\n",
        "# Poiseuille flow\n",
        "import numpy as np\n",
        "\n",
        "# Simulation parameters\n",
        "nx = 100\n",
        "ny = 50\n",
        "niter = 1000\n",
        "tau = 1\n",
        "omega = 1/tau\n",
        "cssq = 1/3 # speed of sound\n",
        "nu = cssq*(tau - 0.5)\n",
        "\n",
        "umax = 0.1\n",
        "\n",
        "Re = umax*ny/nu # equation 7.6 in LB textbook\n",
        "gradP = 8*nu*umax/ny**2 # equation above 5.30?\n",
        "\n",
        "rhoout = 1\n",
        "rhoin = 3*(nx - 1)*gradP + rhoout\n",
        "\n",
        "# D2Q9 lattice arrangement\n",
        "ndir = 9\n",
        "w = np.array([4/9, 1/9, 1/9, 1/9, 1/9, 1/36, 1/36, 1/36, 1/36])\n",
        "cx = np.array([0, 1, -1, 0, 0, 1, -1, -1, 1])\n",
        "cy = np.array([0, 0, 0, 1, -1, 1, 1, -1, -1])\n",
        "\n",
        "# Simulation initialization\n",
        "rho = np.ones((nx, ny))\n",
        "ux = np.zeros((nx, ny))\n",
        "uy = np.zeros((nx, ny))\n",
        "\n",
        "feq = np.zeros((ndir, nx, ny))\n",
        "for k in range(ndir):\n",
        "    feq[k, :, :] = w[k]*rho\n",
        "f = np.copy(feq)\n",
        "fold = np.copy(feq)\n",
        "\n",
        "# Simulation loop\n",
        "for t in range(niter):\n",
        "\n",
        "    # Collision\n",
        "    f = (1 - omega)*fold + omega*feq\n",
        "\n",
        "    # Boundary conditions\n",
        "    # Inlet and outlet\n",
        "    for k in range(ndir):\n",
        "        f[k, 0, :] = w[k]*(rhoin + 3*(cx[k]*ux[nx - 2, :] + cy[k]*uy[nx - 2, :])) + (f[k, nx - 2, :] - feq[k, nx - 2, :])\n",
        "        f[k, nx - 1, :] = w[k]*(rhoout + 3*(cx[k]*ux[1, :] + cy[k]*uy[1, :])) + (f[k, 1, :] - feq[k, 1, :])\n",
        "\n",
        "    # Streaming - Explicit version\n",
        "    for k in range(ndir):\n",
        "        for i in range(nx):\n",
        "            for j in range(ny):\n",
        "                xstreamed = (i + cx[k] + nx)%nx\n",
        "                ystreamed = (j + cy[k] + ny)%ny\n",
        "                fold[k, xstreamed, ystreamed] = f[k, i, j]\n",
        "\n",
        "    # Streaming - Using Python's np.roll\n",
        "#    for k in range(ndir):\n",
        "#        fold[k, :, :] = np.roll(np.roll(f[k, :, :], cx[k], axis = 0), cy[k], axis = 1)\n",
        "\n",
        "    # Boundary conditions\n",
        "    # No-slip boundary condition on the bottom and top walls (in the y-axis)\n",
        "    # Implemented by half-way bounce-back\n",
        "    fold[3, :, 0] = f[4, :, 0]\n",
        "    fold[5, :, 0] = f[7, :, 0]\n",
        "    fold[6, :, 0] = f[8, :, 0]\n",
        "\n",
        "    fold[4, :, ny - 1] = f[3, :, ny - 1]\n",
        "    fold[7, :, ny - 1] = f[5, :, ny - 1]\n",
        "    fold[8, :, ny - 1] = f[6, :, ny - 1]\n",
        "\n",
        "    # Macroscopic variables\n",
        "    rho = fold[0, :, :] + fold[1, :, :] + fold[2, :, ] + fold[3, :, :] + fold[4, :, :] + fold[5, :, :] + fold[6, :, :] + fold[7, :, :] + fold[8, :, :]\n",
        "    ux = np.zeros((nx, ny))\n",
        "    uy = np.zeros((nx, ny))\n",
        "    for k in range(ndir):\n",
        "        ux +=  cx[k]*fold[k, :, :]\n",
        "        uy += cy[k]*fold[k, :, :]\n",
        "    ux /= rho\n",
        "    uy /= rho\n",
        "\n",
        "    # Equilibrium distribution function\n",
        "    for k in range(ndir):\n",
        "        dotprod = cx[k]*ux + cy[k]*uy\n",
        "        velmagn = ux**2 + uy**2\n",
        "        feq[k, :, :] = w[k]*rho*(1 + dotprod/cssq + dotprod**2/(2*cssq**2) - velmagn/(2*cssq))\n",
        ""
      ],
      "id": "oJ4tfUs_ZD15"
    },
    {
      "cell_type": "code",
      "execution_count": null,
      "metadata": {
        "colab": {
          "base_uri": "https://localhost:8080/",
          "height": 268
        },
        "id": "0XmOLE0EZD18",
        "outputId": "8d035d27-6ec3-4cc1-eb6e-1250cb8804b3"
      },
      "outputs": [
        {
          "output_type": "display_data",
          "data": {
            "text/plain": [
              "<Figure size 432x288 with 2 Axes>"
            ],
            "image/png": "[encoded data removed]"
          },
          "metadata": {
            "needs_background": "light"
          }
        }
      ],
      "source": [
        "# Post-processing\n",
        "from matplotlib import pyplot as plt\n",
        "\n",
        "umagn = np.sqrt(ux**2 + uy**2)\n",
        "plt.imshow(umagn)\n",
        "plt.colorbar()\n",
        "plt.show()"
      ],
      "id": "0XmOLE0EZD18"
    },
    {
      "cell_type": "code",
      "execution_count": null,
      "metadata": {
        "id": "CAPeoI6NZD19"
      },
      "outputs": [],
      "source": [],
      "id": "CAPeoI6NZD19"
    }
  ],
  "metadata": {
    "kernelspec": {
      "display_name": "Python 3",
      "language": "python",
      "name": "python3"
    },
    "language_info": {
      "codemirror_mode": {
        "name": "ipython",
        "version": 3
      },
      "file_extension": ".py",
      "mimetype": "text/x-python",
      "name": "python",
      "nbconvert_exporter": "python",
      "pygments_lexer": "ipython3",
      "version": "3.8.3"
    },
    "colab": {
      "provenance": []
    }
  },
  "nbformat": 4,
  "nbformat_minor": 5
}